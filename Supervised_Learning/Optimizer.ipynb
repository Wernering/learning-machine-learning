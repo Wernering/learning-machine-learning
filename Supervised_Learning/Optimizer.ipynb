{
 "cells": [
  {
   "cell_type": "markdown",
   "id": "fd564d25",
   "metadata": {},
   "source": [
    "## Mean Square Error"
   ]
  },
  {
   "cell_type": "code",
   "execution_count": 1,
   "id": "cfac498e",
   "metadata": {},
   "outputs": [],
   "source": [
    "import numpy as np"
   ]
  },
  {
   "cell_type": "code",
   "execution_count": 2,
   "id": "3413b053",
   "metadata": {},
   "outputs": [],
   "source": [
    "def f(X, theta):\n",
    "    \"\"\"\n",
    "    Parameters:\n",
    "    theta: np.array: d-dimentional vector of parameters\n",
    "    X: np.array: (n,d)-dimentional array matrix\n",
    "    \n",
    "    Returns:\n",
    "    y_pred: np.array: n-dimentional vector of results / predicted targets\n",
    "    \"\"\"\n",
    "    return X.dot(theta)"
   ]
  },
  {
   "cell_type": "code",
   "execution_count": 3,
   "id": "f1a7a191",
   "metadata": {},
   "outputs": [],
   "source": [
    " def mean_squared_error(theta, X, y):\n",
    "    \"\"\"\n",
    "    Parameters:\n",
    "    theta: np.array: d-dimentional vector of parameters\n",
    "    X: np.array: (n,d)-dimentional array matrix\n",
    "    y: np.array: n-dimentional vector of targets\n",
    "    \"\"\"\n",
    "    return 0.5*np.mean((y-f(X, theta))**2)"
   ]
  },
  {
   "cell_type": "code",
   "execution_count": 4,
   "id": "aa90bdcd",
   "metadata": {},
   "outputs": [],
   "source": [
    "def mse_gradient(theta, X, y):\n",
    "    \"\"\"\n",
    "    Parameters:\n",
    "    theta: np.array: d-dimentional vector of parameters\n",
    "    X: np.array: (n,d)-dimentional array matrix\n",
    "    y: np.array: n-dimentional vector of targets\n",
    "    \n",
    "    Returns:\n",
    "    grad: np.array: d-dimentional gradient of the MSE\n",
    "    \"\"\"\n",
    "    return np.mean((f(X, theta) - y) * X.T, axis=1)"
   ]
  },
  {
   "cell_type": "code",
   "execution_count": 10,
   "id": "3b769238",
   "metadata": {},
   "outputs": [
    {
     "data": {
      "text/plain": [
       "Text(0, 0.5, 'Diabetes Risk')"
      ]
     },
     "execution_count": 10,
     "metadata": {},
     "output_type": "execute_result"
    },
    {
     "data": {
      "image/png": "[encoded data removed]",
      "text/plain": [
       "<Figure size 576x288 with 1 Axes>"
      ]
     },
     "metadata": {
      "needs_background": "light"
     },
     "output_type": "display_data"
    }
   ],
   "source": [
    "%matplotlib inline\n",
    "import matplotlib.pyplot as plt\n",
    "plt.rcParams[\"figure.figsize\"] = [8,4]\n",
    "\n",
    "import numpy as np\n",
    "import pandas as pd\n",
    "from sklearn import datasets\n",
    "\n",
    "# load Dataset\n",
    "X, y = datasets.load_diabetes(return_X_y=True, as_frame=True)\n",
    "\n",
    "# Add extra columns of Ones\n",
    "X[\"one\"] = 1\n",
    "\n",
    "# Collect 20 data points and only use BMI dimension\n",
    "X_train = X.iloc[-20:].loc[:, [\"bmi\", \"one\"]]\n",
    "y_train = y.iloc[-20:]/300\n",
    "\n",
    "plt.scatter(X_train.loc[:, [\"bmi\"]], y_train, color=\"black\")\n",
    "plt.xlabel(\"Body Mass Index\")\n",
    "plt.ylabel(\"Diabetes Risk\")\n"
   ]
  },
  {
   "cell_type": "code",
   "execution_count": 21,
   "id": "39df1005",
   "metadata": {},
   "outputs": [
    {
     "name": "stdout",
     "output_type": "stream",
     "text": [
      "Iteration 0. MSE: 0.171729\n",
      "Iteration 100. MSE: 0.014765\n",
      "Iteration 200. MSE: 0.014349\n",
      "Iteration 300. MSE: 0.013997\n",
      "Iteration 400. MSE: 0.013701\n",
      "Iteration 500. MSE: 0.013450\n",
      "Iteration 600. MSE: 0.013238\n",
      "Iteration 700. MSE: 0.013060\n",
      "Iteration 800. MSE: 0.012909\n",
      "Iteration 900. MSE: 0.012781\n"
     ]
    }
   ],
   "source": [
    "threshold = 1e-6\n",
    "step_size = 4e-1\n",
    "theta, theta_prev = np.array([2, 1]), np.ones(2, )\n",
    "opt_pts = [theta]\n",
    "opt_grads = []\n",
    "iter = 0\n",
    "\n",
    "while abs(mean_squared_error(theta, X_train, y_train) - mean_squared_error(theta_prev, X_train, y_train)) > threshold:\n",
    "    if iter % 100 == 0:\n",
    "        print(f\"Iteration {iter}. MSE: {mean_squared_error(theta, X_train, y_train):.6f}\")\n",
    "    theta_prev = theta\n",
    "    gradient = mse_gradient(theta, X_train, y_train)\n",
    "    theta = theta_prev - step_size * gradient\n",
    "    opt_pts += [theta]\n",
    "    opt_grads += [gradient]\n",
    "    iter += 1"
   ]
  },
  {
   "cell_type": "markdown",
   "id": "dbadf81d",
   "metadata": {},
   "source": [
    "## Ordinary Least Squares"
   ]
  },
  {
   "cell_type": "code",
   "execution_count": 26,
   "id": "33fa6453",
   "metadata": {},
   "outputs": [],
   "source": [
    "import numpy as np\n",
    "import pandas as pd\n",
    "from sklearn import datasets\n",
    "\n",
    "# load Dataset\n",
    "X, y = datasets.load_diabetes(return_X_y=True, as_frame=True)\n",
    "\n",
    "# Add extra columns of Ones\n",
    "X[\"one\"] = 1\n",
    "\n",
    "# Collect 20 data points and only use BMI dimension\n",
    "X_train = X.iloc[-20:]\n",
    "y_train = y.iloc[-20:]"
   ]
  },
  {
   "cell_type": "code",
   "execution_count": 28,
   "id": "55dc8780",
   "metadata": {},
   "outputs": [
    {
     "data": {
      "text/html": [
       "<div>\n",
       "<style scoped>\n",
       "    .dataframe tbody tr th:only-of-type {\n",
       "        vertical-align: middle;\n",
       "    }\n",
       "\n",
       "    .dataframe tbody tr th {\n",
       "        vertical-align: top;\n",
       "    }\n",
       "\n",
       "    .dataframe thead th {\n",
       "        text-align: right;\n",
       "    }\n",
       "</style>\n",
       "<table border=\"1\" class=\"dataframe\">\n",
       "  <thead>\n",
       "    <tr style=\"text-align: right;\">\n",
       "      <th></th>\n",
       "      <th>age</th>\n",
       "      <th>sex</th>\n",
       "      <th>bmi</th>\n",
       "      <th>bp</th>\n",
       "      <th>s1</th>\n",
       "      <th>s2</th>\n",
       "      <th>s3</th>\n",
       "      <th>s4</th>\n",
       "      <th>s5</th>\n",
       "      <th>s6</th>\n",
       "      <th>one</th>\n",
       "    </tr>\n",
       "  </thead>\n",
       "  <tbody>\n",
       "    <tr>\n",
       "      <th>0</th>\n",
       "      <td>-3.888868</td>\n",
       "      <td>204.648785</td>\n",
       "      <td>-64.289163</td>\n",
       "      <td>-262.796691</td>\n",
       "      <td>14003.726808</td>\n",
       "      <td>-11798.307781</td>\n",
       "      <td>-5892.15807</td>\n",
       "      <td>-1136.947646</td>\n",
       "      <td>-2736.597108</td>\n",
       "      <td>-393.879743</td>\n",
       "      <td>155.698998</td>\n",
       "    </tr>\n",
       "  </tbody>\n",
       "</table>\n",
       "</div>"
      ],
      "text/plain": [
       "        age         sex        bmi          bp            s1            s2  \\\n",
       "0 -3.888868  204.648785 -64.289163 -262.796691  14003.726808 -11798.307781   \n",
       "\n",
       "           s3           s4           s5          s6         one  \n",
       "0 -5892.15807 -1136.947646 -2736.597108 -393.879743  155.698998  "
      ]
     },
     "execution_count": 28,
     "metadata": {},
     "output_type": "execute_result"
    }
   ],
   "source": [
    "# This one line function works for invertible matrix\n",
    "theta_best = np.linalg.inv(X_train.T.dot(X_train)).dot(X_train.T).dot(y_train)\n",
    "theta_best_df = pd.DataFrame(data=theta_best[np.newaxis, :], columns=X.columns)\n",
    "theta_best_df"
   ]
  },
  {
   "cell_type": "markdown",
   "id": "0e2ae1d4",
   "metadata": {},
   "source": [
    "## Non-Linear Least Squares"
   ]
  },
  {
   "cell_type": "code",
   "execution_count": 13,
   "id": "22040fc9",
   "metadata": {},
   "outputs": [],
   "source": [
    "import numpy as np\n",
    "import pandas as pd\n",
    "from sklearn import datasets\n",
    "\n",
    "# load Dataset\n",
    "X, y = datasets.load_diabetes(return_X_y=True, as_frame=True)\n",
    "\n",
    "# Collect 20 data points and only use BMI dimension\n",
    "X_train = X.iloc[-20:]\n",
    "y_train = y.iloc[-20:]\n",
    "\n",
    "X_bmi = X_train.loc[:, [\"bmi\"]]\n",
    "X_bmi_p3 = pd.concat([X_bmi, X_bmi**2, X_bmi**3], axis = 1)\n",
    "X_bmi_p3.columns = [\"bmi\", \"bmi2\", \"bmi3\"]\n",
    "X_bmi_p3[\"one\"] = 1"
   ]
  },
  {
   "cell_type": "code",
   "execution_count": 15,
   "id": "6814b9aa",
   "metadata": {},
   "outputs": [
    {
     "data": {
      "text/plain": [
       "[<matplotlib.lines.Line2D at 0x7fc219149160>]"
      ]
     },
     "execution_count": 15,
     "metadata": {},
     "output_type": "execute_result"
    },
    {
     "data": {
      "image/png": "[encoded data removed]",
      "text/plain": [
       "<Figure size 576x288 with 1 Axes>"
      ]
     },
     "metadata": {
      "needs_background": "light"
     },
     "output_type": "display_data"
    }
   ],
   "source": [
    "%matplotlib inline\n",
    "import matplotlib.pyplot as plt\n",
    "plt.rcParams[\"figure.figsize\"] = [8,4]\n",
    "\n",
    "# Fit Linear Regression (still linear, but using non-linear features)\n",
    "theta_best = np.linalg.inv(X_bmi_p3.T.dot(X_bmi_p3)).dot(X_bmi_p3.T).dot(y_train)\n",
    "\n",
    "x_line = np.linspace(-0.1, 0.1, 10)\n",
    "x_line_p3 = np.stack([x_line, x_line**2, x_line**3, np.ones(10,)], axis=1)\n",
    "y_train_pred = x_line_p3.dot(theta_best)\n",
    "\n",
    "plt.xlabel(\"Body Mass Index (BMI)\")\n",
    "plt.ylabel(\"Diabetes Risk\")\n",
    "plt.scatter(X_bmi, y_train)\n",
    "plt.plot(x_line, y_train_pred)"
   ]
  }
 ],
 "metadata": {
  "kernelspec": {
   "display_name": "Python 3 (ipykernel)",
   "language": "python",
   "name": "python3"
  },
  "language_info": {
   "codemirror_mode": {
    "name": "ipython",
    "version": 3
   },
   "file_extension": ".py",
   "mimetype": "text/x-python",
   "name": "python",
   "nbconvert_exporter": "python",
   "pygments_lexer": "ipython3",
   "version": "3.9.7"
  }
 },
 "nbformat": 4,
 "nbformat_minor": 5
}
